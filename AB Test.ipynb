{
 "cells": [
  {
   "cell_type": "markdown",
   "metadata": {},
   "source": [
    "# Goal: Analyze A/B Test data"
   ]
  },
  {
   "cell_type": "code",
   "execution_count": 8,
   "metadata": {},
   "outputs": [],
   "source": [
    "import pandas as pd\n",
    "import numpy as np\n",
    "import sklearn"
   ]
  },
  {
   "cell_type": "code",
   "execution_count": 18,
   "metadata": {},
   "outputs": [],
   "source": [
    "#read in data\n",
    "pd.set_option('display.max_columns', 20)\n",
    "pd.set_option('display.width', 350)\n",
    "test_data = pd.read_csv('/Users/mengli/Desktop/OPT/项目/Data Challenge/Spainish Translation A:B test/test_table.csv')\n",
    "user_data = pd.read_csv('/Users/mengli/Desktop/OPT/项目/Data Challenge/Spainish Translation A:B test/user_table.csv')"
   ]
  },
  {
   "cell_type": "markdown",
   "metadata": {},
   "source": [
    "### Check data quality and merge tables"
   ]
  },
  {
   "cell_type": "code",
   "execution_count": 19,
   "metadata": {},
   "outputs": [
    {
     "data": {
      "text/html": [
       "<div>\n",
       "<style scoped>\n",
       "    .dataframe tbody tr th:only-of-type {\n",
       "        vertical-align: middle;\n",
       "    }\n",
       "\n",
       "    .dataframe tbody tr th {\n",
       "        vertical-align: top;\n",
       "    }\n",
       "\n",
       "    .dataframe thead th {\n",
       "        text-align: right;\n",
       "    }\n",
       "</style>\n",
       "<table border=\"1\" class=\"dataframe\">\n",
       "  <thead>\n",
       "    <tr style=\"text-align: right;\">\n",
       "      <th></th>\n",
       "      <th>user_id</th>\n",
       "      <th>date</th>\n",
       "      <th>source</th>\n",
       "      <th>device</th>\n",
       "      <th>browser_language</th>\n",
       "      <th>ads_channel</th>\n",
       "      <th>browser</th>\n",
       "      <th>conversion</th>\n",
       "      <th>test</th>\n",
       "    </tr>\n",
       "  </thead>\n",
       "  <tbody>\n",
       "    <tr>\n",
       "      <th>0</th>\n",
       "      <td>315281</td>\n",
       "      <td>2015-12-03</td>\n",
       "      <td>Direct</td>\n",
       "      <td>Web</td>\n",
       "      <td>ES</td>\n",
       "      <td>NaN</td>\n",
       "      <td>IE</td>\n",
       "      <td>1</td>\n",
       "      <td>0</td>\n",
       "    </tr>\n",
       "    <tr>\n",
       "      <th>1</th>\n",
       "      <td>497851</td>\n",
       "      <td>2015-12-04</td>\n",
       "      <td>Ads</td>\n",
       "      <td>Web</td>\n",
       "      <td>ES</td>\n",
       "      <td>Google</td>\n",
       "      <td>IE</td>\n",
       "      <td>0</td>\n",
       "      <td>1</td>\n",
       "    </tr>\n",
       "    <tr>\n",
       "      <th>2</th>\n",
       "      <td>848402</td>\n",
       "      <td>2015-12-04</td>\n",
       "      <td>Ads</td>\n",
       "      <td>Web</td>\n",
       "      <td>ES</td>\n",
       "      <td>Facebook</td>\n",
       "      <td>Chrome</td>\n",
       "      <td>0</td>\n",
       "      <td>0</td>\n",
       "    </tr>\n",
       "    <tr>\n",
       "      <th>3</th>\n",
       "      <td>290051</td>\n",
       "      <td>2015-12-03</td>\n",
       "      <td>Ads</td>\n",
       "      <td>Mobile</td>\n",
       "      <td>Other</td>\n",
       "      <td>Facebook</td>\n",
       "      <td>Android_App</td>\n",
       "      <td>0</td>\n",
       "      <td>1</td>\n",
       "    </tr>\n",
       "    <tr>\n",
       "      <th>4</th>\n",
       "      <td>548435</td>\n",
       "      <td>2015-11-30</td>\n",
       "      <td>Ads</td>\n",
       "      <td>Web</td>\n",
       "      <td>ES</td>\n",
       "      <td>Google</td>\n",
       "      <td>FireFox</td>\n",
       "      <td>0</td>\n",
       "      <td>1</td>\n",
       "    </tr>\n",
       "  </tbody>\n",
       "</table>\n",
       "</div>"
      ],
      "text/plain": [
       "   user_id        date  source  device browser_language ads_channel      browser  conversion  test\n",
       "0   315281  2015-12-03  Direct     Web               ES         NaN           IE           1     0\n",
       "1   497851  2015-12-04     Ads     Web               ES      Google           IE           0     1\n",
       "2   848402  2015-12-04     Ads     Web               ES    Facebook       Chrome           0     0\n",
       "3   290051  2015-12-03     Ads  Mobile            Other    Facebook  Android_App           0     1\n",
       "4   548435  2015-11-30     Ads     Web               ES      Google      FireFox           0     1"
      ]
     },
     "execution_count": 19,
     "metadata": {},
     "output_type": "execute_result"
    }
   ],
   "source": [
    "test_data.head()"
   ]
  },
  {
   "cell_type": "code",
   "execution_count": 20,
   "metadata": {},
   "outputs": [
    {
     "data": {
      "text/plain": [
       "(453321, 9)"
      ]
     },
     "execution_count": 20,
     "metadata": {},
     "output_type": "execute_result"
    }
   ],
   "source": [
    "test_data.shape"
   ]
  },
  {
   "cell_type": "code",
   "execution_count": 21,
   "metadata": {},
   "outputs": [
    {
     "data": {
      "text/html": [
       "<div>\n",
       "<style scoped>\n",
       "    .dataframe tbody tr th:only-of-type {\n",
       "        vertical-align: middle;\n",
       "    }\n",
       "\n",
       "    .dataframe tbody tr th {\n",
       "        vertical-align: top;\n",
       "    }\n",
       "\n",
       "    .dataframe thead th {\n",
       "        text-align: right;\n",
       "    }\n",
       "</style>\n",
       "<table border=\"1\" class=\"dataframe\">\n",
       "  <thead>\n",
       "    <tr style=\"text-align: right;\">\n",
       "      <th></th>\n",
       "      <th>user_id</th>\n",
       "      <th>sex</th>\n",
       "      <th>age</th>\n",
       "      <th>country</th>\n",
       "    </tr>\n",
       "  </thead>\n",
       "  <tbody>\n",
       "    <tr>\n",
       "      <th>0</th>\n",
       "      <td>765821</td>\n",
       "      <td>M</td>\n",
       "      <td>20</td>\n",
       "      <td>Mexico</td>\n",
       "    </tr>\n",
       "    <tr>\n",
       "      <th>1</th>\n",
       "      <td>343561</td>\n",
       "      <td>F</td>\n",
       "      <td>27</td>\n",
       "      <td>Nicaragua</td>\n",
       "    </tr>\n",
       "    <tr>\n",
       "      <th>2</th>\n",
       "      <td>118744</td>\n",
       "      <td>M</td>\n",
       "      <td>23</td>\n",
       "      <td>Colombia</td>\n",
       "    </tr>\n",
       "    <tr>\n",
       "      <th>3</th>\n",
       "      <td>987753</td>\n",
       "      <td>F</td>\n",
       "      <td>27</td>\n",
       "      <td>Venezuela</td>\n",
       "    </tr>\n",
       "    <tr>\n",
       "      <th>4</th>\n",
       "      <td>554597</td>\n",
       "      <td>F</td>\n",
       "      <td>20</td>\n",
       "      <td>Spain</td>\n",
       "    </tr>\n",
       "  </tbody>\n",
       "</table>\n",
       "</div>"
      ],
      "text/plain": [
       "   user_id sex  age    country\n",
       "0   765821   M   20     Mexico\n",
       "1   343561   F   27  Nicaragua\n",
       "2   118744   M   23   Colombia\n",
       "3   987753   F   27  Venezuela\n",
       "4   554597   F   20      Spain"
      ]
     },
     "execution_count": 21,
     "metadata": {},
     "output_type": "execute_result"
    }
   ],
   "source": [
    "user_data.head()"
   ]
  },
  {
   "cell_type": "code",
   "execution_count": 22,
   "metadata": {},
   "outputs": [
    {
     "data": {
      "text/plain": [
       "(452867, 4)"
      ]
     },
     "execution_count": 22,
     "metadata": {},
     "output_type": "execute_result"
    }
   ],
   "source": [
    "user_data.shape"
   ]
  },
  {
   "cell_type": "code",
   "execution_count": 25,
   "metadata": {},
   "outputs": [
    {
     "name": "stdout",
     "output_type": "stream",
     "text": [
      "True True\n"
     ]
    }
   ],
   "source": [
    "#check whether there are repeated users \n",
    "print(test_data['user_id'].nunique()==len(test_data), user_data['user_id'].nunique()==len(user_data))"
   ]
  },
  {
   "cell_type": "code",
   "execution_count": 27,
   "metadata": {},
   "outputs": [
    {
     "name": "stdout",
     "output_type": "stream",
     "text": [
      "454\n"
     ]
    }
   ],
   "source": [
    "print(len(test_data)-len(user_data))"
   ]
  },
  {
   "cell_type": "code",
   "execution_count": 42,
   "metadata": {},
   "outputs": [
    {
     "data": {
      "text/html": [
       "<div>\n",
       "<style scoped>\n",
       "    .dataframe tbody tr th:only-of-type {\n",
       "        vertical-align: middle;\n",
       "    }\n",
       "\n",
       "    .dataframe tbody tr th {\n",
       "        vertical-align: top;\n",
       "    }\n",
       "\n",
       "    .dataframe thead th {\n",
       "        text-align: right;\n",
       "    }\n",
       "</style>\n",
       "<table border=\"1\" class=\"dataframe\">\n",
       "  <thead>\n",
       "    <tr style=\"text-align: right;\">\n",
       "      <th></th>\n",
       "      <th>user_id</th>\n",
       "      <th>date</th>\n",
       "      <th>source</th>\n",
       "      <th>device</th>\n",
       "      <th>browser_language</th>\n",
       "      <th>ads_channel</th>\n",
       "      <th>browser</th>\n",
       "      <th>conversion</th>\n",
       "      <th>test</th>\n",
       "      <th>sex</th>\n",
       "      <th>age</th>\n",
       "      <th>country</th>\n",
       "    </tr>\n",
       "  </thead>\n",
       "  <tbody>\n",
       "    <tr>\n",
       "      <th>0</th>\n",
       "      <td>315281</td>\n",
       "      <td>2015-12-03</td>\n",
       "      <td>Direct</td>\n",
       "      <td>Web</td>\n",
       "      <td>ES</td>\n",
       "      <td>NaN</td>\n",
       "      <td>IE</td>\n",
       "      <td>1</td>\n",
       "      <td>0</td>\n",
       "      <td>M</td>\n",
       "      <td>32</td>\n",
       "      <td>Spain</td>\n",
       "    </tr>\n",
       "    <tr>\n",
       "      <th>1</th>\n",
       "      <td>497851</td>\n",
       "      <td>2015-12-04</td>\n",
       "      <td>Ads</td>\n",
       "      <td>Web</td>\n",
       "      <td>ES</td>\n",
       "      <td>Google</td>\n",
       "      <td>IE</td>\n",
       "      <td>0</td>\n",
       "      <td>1</td>\n",
       "      <td>M</td>\n",
       "      <td>21</td>\n",
       "      <td>Mexico</td>\n",
       "    </tr>\n",
       "    <tr>\n",
       "      <th>2</th>\n",
       "      <td>848402</td>\n",
       "      <td>2015-12-04</td>\n",
       "      <td>Ads</td>\n",
       "      <td>Web</td>\n",
       "      <td>ES</td>\n",
       "      <td>Facebook</td>\n",
       "      <td>Chrome</td>\n",
       "      <td>0</td>\n",
       "      <td>0</td>\n",
       "      <td>M</td>\n",
       "      <td>34</td>\n",
       "      <td>Spain</td>\n",
       "    </tr>\n",
       "    <tr>\n",
       "      <th>3</th>\n",
       "      <td>290051</td>\n",
       "      <td>2015-12-03</td>\n",
       "      <td>Ads</td>\n",
       "      <td>Mobile</td>\n",
       "      <td>Other</td>\n",
       "      <td>Facebook</td>\n",
       "      <td>Android_App</td>\n",
       "      <td>0</td>\n",
       "      <td>1</td>\n",
       "      <td>F</td>\n",
       "      <td>22</td>\n",
       "      <td>Mexico</td>\n",
       "    </tr>\n",
       "    <tr>\n",
       "      <th>4</th>\n",
       "      <td>548435</td>\n",
       "      <td>2015-11-30</td>\n",
       "      <td>Ads</td>\n",
       "      <td>Web</td>\n",
       "      <td>ES</td>\n",
       "      <td>Google</td>\n",
       "      <td>FireFox</td>\n",
       "      <td>0</td>\n",
       "      <td>1</td>\n",
       "      <td>M</td>\n",
       "      <td>19</td>\n",
       "      <td>Mexico</td>\n",
       "    </tr>\n",
       "  </tbody>\n",
       "</table>\n",
       "</div>"
      ],
      "text/plain": [
       "   user_id       date  source  device browser_language ads_channel      browser  conversion  test sex  age country\n",
       "0   315281 2015-12-03  Direct     Web               ES         NaN           IE           1     0   M   32   Spain\n",
       "1   497851 2015-12-04     Ads     Web               ES      Google           IE           0     1   M   21  Mexico\n",
       "2   848402 2015-12-04     Ads     Web               ES    Facebook       Chrome           0     0   M   34   Spain\n",
       "3   290051 2015-12-03     Ads  Mobile            Other    Facebook  Android_App           0     1   F   22  Mexico\n",
       "4   548435 2015-11-30     Ads     Web               ES      Google      FireFox           0     1   M   19  Mexico"
      ]
     },
     "execution_count": 42,
     "metadata": {},
     "output_type": "execute_result"
    }
   ],
   "source": [
    "# join\n",
    "data = test_data.merge(user_data, on=['user_id'])\n",
    "  \n",
    "#make it a date\n",
    "data['date'] = pd.to_datetime(data['date'])\n",
    "data.head()"
   ]
  },
  {
   "cell_type": "code",
   "execution_count": 43,
   "metadata": {},
   "outputs": [
    {
     "name": "stdout",
     "output_type": "stream",
     "text": [
      "               user_id                 date  source  device browser_language ads_channel      browser     conversion           test     sex            age country\n",
      "count    452867.000000               452867  452867  452867           452867      181693       452867  452867.000000  452867.000000  452867  452867.000000  452867\n",
      "unique             NaN                    5       3       2                3           5            7            NaN            NaN       2            NaN      17\n",
      "top                NaN  2015-12-04 00:00:00     Ads     Web               ES    Facebook  Android_App            NaN            NaN       M            NaN  Mexico\n",
      "freq               NaN               141024  181693  251316           377160       68358       154977            NaN            NaN  264485            NaN  128484\n",
      "first              NaN  2015-11-30 00:00:00     NaN     NaN              NaN         NaN          NaN            NaN            NaN     NaN            NaN     NaN\n",
      "last               NaN  2015-12-04 00:00:00     NaN     NaN              NaN         NaN          NaN            NaN            NaN     NaN            NaN     NaN\n",
      "mean     499944.805166                  NaN     NaN     NaN              NaN         NaN          NaN       0.049560       0.476462     NaN      27.130740     NaN\n",
      "std      288676.264784                  NaN     NaN     NaN              NaN         NaN          NaN       0.217034       0.499446     NaN       6.776678     NaN\n",
      "min           1.000000                  NaN     NaN     NaN              NaN         NaN          NaN       0.000000       0.000000     NaN      18.000000     NaN\n",
      "25%      249819.000000                  NaN     NaN     NaN              NaN         NaN          NaN       0.000000       0.000000     NaN      22.000000     NaN\n",
      "50%      500019.000000                  NaN     NaN     NaN              NaN         NaN          NaN       0.000000       0.000000     NaN      26.000000     NaN\n",
      "75%      749543.000000                  NaN     NaN     NaN              NaN         NaN          NaN       0.000000       1.000000     NaN      31.000000     NaN\n",
      "max     1000000.000000                  NaN     NaN     NaN              NaN         NaN          NaN       1.000000       1.000000     NaN      70.000000     NaN\n"
     ]
    }
   ],
   "source": [
    "print(data.describe(include=\"all\"))"
   ]
  },
  {
   "cell_type": "markdown",
   "metadata": {},
   "source": [
    "### Check asumptions about the test\n",
    "- Spain have higher user conversion rate than LatAm in control group\n",
    "- The test and control group have similar user distribution"
   ]
  },
  {
   "cell_type": "code",
   "execution_count": 55,
   "metadata": {},
   "outputs": [
    {
     "name": "stdout",
     "output_type": "stream",
     "text": [
      "Test group size is: 215774 \n",
      " Control group size is: 185311\n"
     ]
    }
   ],
   "source": [
    "#split test and control group\n",
    "#nothing changed in Spain, so no point in keeping those users\n",
    "data = data.query('country !=\"Spain\"')\n",
    "test_group = data[data['test']==1]\n",
    "control_group = data[data['test']==0]\n",
    "print(\n",
    "'Test group size is:', len(test_group),\n",
    "'\\n',\n",
    "'Control group size is:', len(control_group))"
   ]
  },
  {
   "cell_type": "code",
   "execution_count": 47,
   "metadata": {},
   "outputs": [
    {
     "name": "stdout",
     "output_type": "stream",
     "text": [
      "country\n",
      "Spain          0.079719\n",
      "El Salvador    0.053554\n",
      "Nicaragua      0.052647\n",
      "Costa Rica     0.052256\n",
      "Colombia       0.052089\n",
      "Honduras       0.050906\n",
      "Guatemala      0.050643\n",
      "Venezuela      0.050344\n",
      "Peru           0.049914\n",
      "Mexico         0.049495\n",
      "Bolivia        0.049369\n",
      "Ecuador        0.049154\n",
      "Paraguay       0.048493\n",
      "Chile          0.048107\n",
      "Panama         0.046796\n",
      "Argentina      0.015071\n",
      "Uruguay        0.012048\n",
      "Name: conversion, dtype: float64\n"
     ]
    }
   ],
   "source": [
    "#check whether Spain have better conversion rate than other LatAm\n",
    "country_conversion = control_group.groupby('country')['conversion'].mean()\n",
    "print(country_conversion.sort_values(ascending=False))"
   ]
  },
  {
   "cell_type": "code",
   "execution_count": 60,
   "metadata": {},
   "outputs": [
    {
     "name": "stdout",
     "output_type": "stream",
     "text": [
      "Test group conversion rate is: 0.043411 \n",
      " Control group conversion rate is: 0.048292\n"
     ]
    }
   ],
   "source": [
    "#calculate convertion rate of test and control group\n",
    "test_conversion_rate = sum(test_group['conversion'])/len(test_group)\n",
    "control_conversion_rate = sum(control_group['conversion'])/len(control_group)\n",
    "print(\n",
    "'Test group conversion rate is:', \"%.6f\" % test_conversion_rate,\n",
    "'\\n',\n",
    "'Control group conversion rate is:', \"%.6f\" % control_conversion_rate)\n"
   ]
  },
  {
   "cell_type": "code",
   "execution_count": 56,
   "metadata": {},
   "outputs": [
    {
     "name": "stdout",
     "output_type": "stream",
     "text": [
      "test\n",
      "0    0.048292\n",
      "1    0.043411\n",
      "Name: conversion, dtype: float64\n"
     ]
    }
   ],
   "source": [
    "#run t test to calculate convertion rate in test and control\n",
    "from scipy import stats\n",
    "\n",
    "test = stats.ttest_ind(test_group['conversion'], control_group['conversion'], equal_var=False)\n",
    "print(data.groupby('test')['conversion'].mean())"
   ]
  },
  {
   "cell_type": "code",
   "execution_count": 62,
   "metadata": {},
   "outputs": [
    {
     "name": "stdout",
     "output_type": "stream",
     "text": [
      "-7.353895203080277\n"
     ]
    }
   ],
   "source": [
    "print(test.statistic)"
   ]
  },
  {
   "cell_type": "code",
   "execution_count": 61,
   "metadata": {},
   "outputs": [
    {
     "name": "stdout",
     "output_type": "stream",
     "text": [
      "1.9289178577799033e-13\n"
     ]
    }
   ],
   "source": [
    "print(test.pvalue)"
   ]
  },
  {
   "cell_type": "markdown",
   "metadata": {},
   "source": [
    "Findings\n",
    "- Users from Spain do have higher conversion rate than users from other Spanish-speaking countries\n",
    "- Test result is negative, which means site translation by local can not brought better conversion rate compared with the site translation by Spaniard\n",
    "- The test is significant\n",
    "    "
   ]
  },
  {
   "cell_type": "markdown",
   "metadata": {},
   "source": [
    "The wierd test result might caused by\n",
    "- Not enough data\n",
    "- Bias in experiment data, so that test/control people are not really random"
   ]
  },
  {
   "cell_type": "markdown",
   "metadata": {},
   "source": [
    "Firstly, let’s plot day by day, to see if these weird results have been constantly happening or they just started happening all of a sudden. "
   ]
  },
  {
   "cell_type": "code",
   "execution_count": 65,
   "metadata": {},
   "outputs": [
    {
     "name": "stderr",
     "output_type": "stream",
     "text": [
      "/anaconda3/lib/python3.6/site-packages/ipykernel_launcher.py:5: FutureWarning: using a dict on a Series for aggregation\n",
      "is deprecated and will be removed in a future version\n",
      "  \"\"\"\n"
     ]
    },
    {
     "data": {
      "image/png": "[encoded data removed]",
      "text/plain": [
       "<Figure size 432x288 with 1 Axes>"
      ]
     },
     "metadata": {},
     "output_type": "display_data"
    }
   ],
   "source": [
    "import matplotlib.pyplot as plt\n",
    "  \n",
    "#compare test and control conversion rate by day and plot it\n",
    "data_test_by_day = data.groupby(\"date\")[\"conversion\"].agg({\n",
    "\"test_vs_control\": lambda x: x[data[\"test\"]==1].mean()/x[data[\"test\"]==0].mean()\n",
    "}).plot()"
   ]
  },
  {
   "cell_type": "code",
   "execution_count": null,
   "metadata": {},
   "outputs": [],
   "source": [
    "data_test_by_day = data.groupby(\"date\")[\"conversion\"].agg({\n",
    "\"test_vs_control\": lambda x: x[data[\"test\"]==1].mean()/x[data[\"test\"]==0].mean()\n",
    "}).plot()"
   ]
  },
  {
   "cell_type": "markdown",
   "metadata": {},
   "source": [
    "Findings\n",
    "- Test has constantly been worse than control and there is relatively little variance across days. That probably means that we do have enough data, but there was some bias in the experiment set up\n",
    "- As a side note, we just ran it for 5 days. We should always run the test for at least 1 full week to capture weekly patterns, 2 weeks would be much better"
   ]
  },
  {
   "cell_type": "markdown",
   "metadata": {},
   "source": [
    "### Check A/B test randomization"
   ]
  },
  {
   "cell_type": "code",
   "execution_count": 69,
   "metadata": {
    "scrolled": true
   },
   "outputs": [
    {
     "name": "stdout",
     "output_type": "stream",
     "text": [
      "        frequency_test_0  frequency_control_1\n",
      "source                                       \n",
      "Ads             0.401228             0.400641\n",
      "Direct          0.200949             0.199500\n",
      "SEO             0.397823             0.399858\n"
     ]
    },
    {
     "name": "stderr",
     "output_type": "stream",
     "text": [
      "/anaconda3/lib/python3.6/site-packages/ipykernel_launcher.py:3: FutureWarning: using a dict on a Series for aggregation\n",
      "is deprecated and will be removed in a future version\n",
      "  This is separate from the ipykernel package so we can avoid doing imports until\n"
     ]
    }
   ],
   "source": [
    "#group by source and estimate relative frequencies\n",
    "data_grouped_source = data.groupby('source')['test'].agg({'frequency_test_0':lambda x: len(x[x==0]),\n",
    "                                                 'frequency_control_1': lambda x: len(x[x==1])})\n",
    "print(data_grouped_source/data_grouped_source.sum())"
   ]
  },
  {
   "cell_type": "markdown",
   "metadata": {},
   "source": [
    "As we can see, relative frequency of source for different segments is the same. That is, we have basically the same proportion of users coming from Ads, Direct, and SEO in both test and control.\n"
   ]
  },
  {
   "cell_type": "markdown",
   "metadata": {},
   "source": [
    "### Build a ML model to check randomization\n",
    "Build a ML model to predict whether users are from test or control group. If users are not randomely splited, the model can be easily generated. If users are randomely splited, I can't never generate a model like this."
   ]
  },
  {
   "cell_type": "markdown",
   "metadata": {},
   "source": [
    "I would use decision tree as my model, because I can see the feature it use to split the two groups, and the feature is where randomization failed."
   ]
  },
  {
   "cell_type": "code",
   "execution_count": 91,
   "metadata": {},
   "outputs": [
    {
     "data": {
      "image/svg+xml": [
       "<?xml version=\"1.0\" encoding=\"UTF-8\" standalone=\"no\"?>\n",
       "<!DOCTYPE svg PUBLIC \"-//W3C//DTD SVG 1.1//EN\"\n",
       " \"http://www.w3.org/Graphics/SVG/1.1/DTD/svg11.dtd\">\n",
       "<!-- Generated by graphviz version 2.40.1 (20161225.0304)\n",
       " -->\n",
       "<!-- Title: Tree Pages: 1 -->\n",
       "<svg width=\"437pt\" height=\"175pt\"\n",
       " viewBox=\"0.00 0.00 437.00 175.00\" xmlns=\"http://www.w3.org/2000/svg\" xmlns:xlink=\"http://www.w3.org/1999/xlink\">\n",
       "<g id=\"graph0\" class=\"graph\" transform=\"scale(1 1) rotate(0) translate(4 171)\">\n",
       "<title>Tree</title>\n",
       "<polygon fill=\"#ffffff\" stroke=\"transparent\" points=\"-4,4 -4,-171 433,-171 433,4 -4,4\"/>\n",
       "<!-- 0 -->\n",
       "<g id=\"node1\" class=\"node\">\n",
       "<title>0</title>\n",
       "<polygon fill=\"none\" stroke=\"#000000\" points=\"126,-99.5 0,-99.5 0,-31.5 126,-31.5 126,-99.5\"/>\n",
       "<text text-anchor=\"middle\" x=\"63\" y=\"-84.3\" font-family=\"Times,serif\" font-size=\"14.00\" fill=\"#000000\">country_Argentina &lt;= 0.5</text>\n",
       "<text text-anchor=\"middle\" x=\"63\" y=\"-69.3\" font-family=\"Times,serif\" font-size=\"14.00\" fill=\"#000000\">gini = 0.5</text>\n",
       "<text text-anchor=\"middle\" x=\"63\" y=\"-54.3\" font-family=\"Times,serif\" font-size=\"14.00\" fill=\"#000000\">samples = 100.0%</text>\n",
       "<text text-anchor=\"middle\" x=\"63\" y=\"-39.3\" font-family=\"Times,serif\" font-size=\"14.00\" fill=\"#000000\">value = [0.5, 0.5]</text>\n",
       "</g>\n",
       "<!-- 1 -->\n",
       "<g id=\"node2\" class=\"node\">\n",
       "<title>1</title>\n",
       "<polygon fill=\"none\" stroke=\"#000000\" points=\"283,-139.5 162,-139.5 162,-71.5 283,-71.5 283,-139.5\"/>\n",
       "<text text-anchor=\"middle\" x=\"222.5\" y=\"-124.3\" font-family=\"Times,serif\" font-size=\"14.00\" fill=\"#000000\">country_Uruguay &lt;= 0.5</text>\n",
       "<text text-anchor=\"middle\" x=\"222.5\" y=\"-109.3\" font-family=\"Times,serif\" font-size=\"14.00\" fill=\"#000000\">gini = 0.498</text>\n",
       "<text text-anchor=\"middle\" x=\"222.5\" y=\"-94.3\" font-family=\"Times,serif\" font-size=\"14.00\" fill=\"#000000\">samples = 88.3%</text>\n",
       "<text text-anchor=\"middle\" x=\"222.5\" y=\"-79.3\" font-family=\"Times,serif\" font-size=\"14.00\" fill=\"#000000\">value = [0.535, 0.465]</text>\n",
       "</g>\n",
       "<!-- 0&#45;&gt;1 -->\n",
       "<g id=\"edge1\" class=\"edge\">\n",
       "<title>0&#45;&gt;1</title>\n",
       "<path fill=\"none\" stroke=\"#000000\" d=\"M126.0386,-81.3091C134.4877,-83.428 143.1989,-85.6126 151.7692,-87.7619\"/>\n",
       "<polygon fill=\"#000000\" stroke=\"#000000\" points=\"151.1903,-91.225 161.7413,-90.2627 152.8931,-84.4353 151.1903,-91.225\"/>\n",
       "<text text-anchor=\"middle\" x=\"140.2945\" y=\"-99.4093\" font-family=\"Times,serif\" font-size=\"14.00\" fill=\"#000000\">True</text>\n",
       "</g>\n",
       "<!-- 4 -->\n",
       "<g id=\"node5\" class=\"node\">\n",
       "<title>4</title>\n",
       "<polygon fill=\"none\" stroke=\"#000000\" points=\"277.5,-53 167.5,-53 167.5,0 277.5,0 277.5,-53\"/>\n",
       "<text text-anchor=\"middle\" x=\"222.5\" y=\"-37.8\" font-family=\"Times,serif\" font-size=\"14.00\" fill=\"#000000\">gini = 0.35</text>\n",
       "<text text-anchor=\"middle\" x=\"222.5\" y=\"-22.8\" font-family=\"Times,serif\" font-size=\"14.00\" fill=\"#000000\">samples = 11.7%</text>\n",
       "<text text-anchor=\"middle\" x=\"222.5\" y=\"-7.8\" font-family=\"Times,serif\" font-size=\"14.00\" fill=\"#000000\">value = [0.226, 0.774]</text>\n",
       "</g>\n",
       "<!-- 0&#45;&gt;4 -->\n",
       "<g id=\"edge4\" class=\"edge\">\n",
       "<title>0&#45;&gt;4</title>\n",
       "<path fill=\"none\" stroke=\"#000000\" d=\"M126.0386,-50.0862C136.3986,-47.553 147.1526,-44.9235 157.558,-42.3792\"/>\n",
       "<polygon fill=\"#000000\" stroke=\"#000000\" points=\"158.5208,-45.747 167.4033,-39.9719 156.8581,-38.9473 158.5208,-45.747\"/>\n",
       "<text text-anchor=\"middle\" x=\"146.0327\" y=\"-23.2989\" font-family=\"Times,serif\" font-size=\"14.00\" fill=\"#000000\">False</text>\n",
       "</g>\n",
       "<!-- 2 -->\n",
       "<g id=\"node3\" class=\"node\">\n",
       "<title>2</title>\n",
       "<polygon fill=\"none\" stroke=\"#000000\" points=\"429,-167 319,-167 319,-114 429,-114 429,-167\"/>\n",
       "<text text-anchor=\"middle\" x=\"374\" y=\"-151.8\" font-family=\"Times,serif\" font-size=\"14.00\" fill=\"#000000\">gini = 0.497</text>\n",
       "<text text-anchor=\"middle\" x=\"374\" y=\"-136.8\" font-family=\"Times,serif\" font-size=\"14.00\" fill=\"#000000\">samples = 87.3%</text>\n",
       "<text text-anchor=\"middle\" x=\"374\" y=\"-121.8\" font-family=\"Times,serif\" font-size=\"14.00\" fill=\"#000000\">value = [0.539, 0.461]</text>\n",
       "</g>\n",
       "<!-- 1&#45;&gt;2 -->\n",
       "<g id=\"edge2\" class=\"edge\">\n",
       "<title>1&#45;&gt;2</title>\n",
       "<path fill=\"none\" stroke=\"#000000\" d=\"M283.2479,-119.5342C291.6498,-121.4752 300.3082,-123.4755 308.787,-125.4343\"/>\n",
       "<polygon fill=\"#000000\" stroke=\"#000000\" points=\"308.1005,-128.8678 318.6318,-127.7087 309.6762,-122.0475 308.1005,-128.8678\"/>\n",
       "</g>\n",
       "<!-- 3 -->\n",
       "<g id=\"node4\" class=\"node\">\n",
       "<title>3</title>\n",
       "<polygon fill=\"none\" stroke=\"#000000\" points=\"429,-96 319,-96 319,-43 429,-43 429,-96\"/>\n",
       "<text text-anchor=\"middle\" x=\"374\" y=\"-80.8\" font-family=\"Times,serif\" font-size=\"14.00\" fill=\"#000000\">gini = 0.204</text>\n",
       "<text text-anchor=\"middle\" x=\"374\" y=\"-65.8\" font-family=\"Times,serif\" font-size=\"14.00\" fill=\"#000000\">samples = 1.0%</text>\n",
       "<text text-anchor=\"middle\" x=\"374\" y=\"-50.8\" font-family=\"Times,serif\" font-size=\"14.00\" fill=\"#000000\">value = [0.115, 0.885]</text>\n",
       "</g>\n",
       "<!-- 1&#45;&gt;3 -->\n",
       "<g id=\"edge3\" class=\"edge\">\n",
       "<title>1&#45;&gt;3</title>\n",
       "<path fill=\"none\" stroke=\"#000000\" d=\"M283.2479,-91.0649C291.6498,-89.0684 300.3082,-87.0109 308.787,-84.9962\"/>\n",
       "<polygon fill=\"#000000\" stroke=\"#000000\" points=\"309.7118,-88.3739 318.6318,-82.6568 308.0935,-81.5636 309.7118,-88.3739\"/>\n",
       "</g>\n",
       "</g>\n",
       "</svg>\n"
      ],
      "text/plain": [
       "<graphviz.files.Source at 0xa1f9f9860>"
      ]
     },
     "execution_count": 91,
     "metadata": {},
     "output_type": "execute_result"
    }
   ],
   "source": [
    "import graphviz\n",
    "from sklearn.tree import DecisionTreeClassifier\n",
    "from sklearn.tree import export_graphviz\n",
    "from graphviz import Source\n",
    "\n",
    "#get dummies\n",
    "data['date'] = data['date'].apply(str)\n",
    "data_dummy = pd.get_dummies(data)\n",
    "x=data_dummy.drop(['test','conversion'], axis=1)\n",
    "y=data_dummy['test']\n",
    "dt=DecisionTreeClassifier(min_impurity_decrease=0.001,class_weight='balanced')\n",
    "dt.fit(x,y)\n",
    "dot_data = export_graphviz(dt, out_file=None, feature_names=x.columns,proportion=True, rotate=True)\n",
    "graph = graphviz.Source(dot_data)  \n",
    "graph "
   ]
  },
  {
   "cell_type": "markdown",
   "metadata": {},
   "source": [
    "User distribution in test and control group is not the same! When users' country is Argentina, 77% of users are splited into test group. While 23% of them are splited into control group. When users are from Uruguay, the unbalance is more significant, 89% of users are splited into test group. While 11% of them are in control group. "
   ]
  },
  {
   "cell_type": "code",
   "execution_count": 93,
   "metadata": {},
   "outputs": [
    {
     "name": "stdout",
     "output_type": "stream",
     "text": [
      "      country_Argentina  country_Uruguay\n",
      "test                                    \n",
      "0              0.050488         0.002239\n",
      "1              0.173223         0.017236\n"
     ]
    }
   ],
   "source": [
    "#double check Argentina and Uruguay users' proportion in test and control group\n",
    "print(data_dummy.groupby('test')[['country_Argentina', 'country_Uruguay']].mean())\n"
   ]
  },
  {
   "cell_type": "markdown",
   "metadata": {},
   "source": [
    "The test_control_split is unbalanced. In test group, 17% of users are from Argentina and 17% of users are from Uruguay. While in control group, only 5% users are from Argentina and 2% of users are from Uruguay. "
   ]
  },
  {
   "cell_type": "code",
   "execution_count": 109,
   "metadata": {},
   "outputs": [
    {
     "name": "stdout",
     "output_type": "stream",
     "text": [
      "                    data_set       p_value  t_statistic\n",
      "0                       Full  1.928918e-13    -7.353895\n",
      "1  Removed_Argentina_Uruguay  7.200849e-01     0.358346\n"
     ]
    }
   ],
   "source": [
    "#remove users from Argentina and Uruguay to get random test and control group\n",
    "updated_data = data_dummy[(data_dummy['country_Argentina']==0) & (data_dummy['country_Uruguay']==0)]\n",
    "updated_test_group = updated_data[updated_data['test']==1]\n",
    "updated_control_group = updated_data[updated_data['test']==0]\n",
    "\n",
    "#updated test result removing users from Argentina and Uruguay\n",
    "updated_test = stats.ttest_ind(updated_test_group['conversion'], updated_control_group['conversion'], equal_var=False)\n",
    "\n",
    "#test result using the original dataset\n",
    "original_test = stats.ttest_ind(test_group['conversion'], control_group['conversion'], equal_var=False)\n",
    "\n",
    "print(pd.DataFrame({'data_set': ['Full', 'Removed_Argentina_Uruguay'],\n",
    "                   'p_value': [original_test.pvalue, updated_test.pvalue],\n",
    "                   't_statistic': [original_test.statistic, updated_test.statistic]})\n",
    ")\n"
   ]
  },
  {
   "cell_type": "markdown",
   "metadata": {},
   "source": [
    "Findings\n",
    "- Test is not significant\n",
    "- Localized translation didn’t make things worse"
   ]
  },
  {
   "cell_type": "markdown",
   "metadata": {},
   "source": [
    "### Nest Steps"
   ]
  },
  {
   "cell_type": "markdown",
   "metadata": {},
   "source": [
    "Option1\n",
    "<br>\n",
    "Adjust the weight of Argentina and Uruguay users' conversion, so that the relative frequency of test and control group is the same.\n",
    "<br>\n",
    "Then rerun the test and check test result.\n",
    "<br>\n",
    "<br>\n",
    "Option2\n",
    "<br>\n",
    "Discuss the situation with the engineer that is responsible for randomization and find out together what caused fail of randomization.\n",
    "<br>\n",
    "Rerun the test, and check test result.\n"
   ]
  }
 ],
 "metadata": {
  "kernelspec": {
   "display_name": "Python 3",
   "language": "python",
   "name": "python3"
  },
  "language_info": {
   "codemirror_mode": {
    "name": "ipython",
    "version": 3
   },
   "file_extension": ".py",
   "mimetype": "text/x-python",
   "name": "python",
   "nbconvert_exporter": "python",
   "pygments_lexer": "ipython3",
   "version": "3.6.5"
  }
 },
 "nbformat": 4,
 "nbformat_minor": 2
}
